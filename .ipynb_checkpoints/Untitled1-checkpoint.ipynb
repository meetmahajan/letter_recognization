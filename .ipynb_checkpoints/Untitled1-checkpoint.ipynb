{
 "cells": [
  {
   "cell_type": "code",
   "execution_count": 1,
   "metadata": {
    "collapsed": false,
    "deletable": true,
    "editable": true
   },
   "outputs": [],
   "source": [
    "from PIL import Image\n",
    "import numpy as np\n",
    "import pandas as pd\n",
    "import os"
   ]
  },
  {
   "cell_type": "code",
   "execution_count": 2,
   "metadata": {
    "collapsed": true,
    "deletable": true,
    "editable": true
   },
   "outputs": [],
   "source": [
    "train_data = pd.read_csv(\"emnist-balanced-train.csv\",header=None,names=range(28*28+1))"
   ]
  },
  {
   "cell_type": "code",
   "execution_count": 3,
   "metadata": {
    "collapsed": false,
    "deletable": true,
    "editable": true
   },
   "outputs": [],
   "source": [
    "mapping = {}\n",
    "cntr = {}\n",
    "f_ = open(\"emnist-balanced-mapping.txt\",'r')\n",
    "for line in f_:\n",
    "    a,b=line.split()\n",
    "    mapping[int(a)] = chr(int(b))\n",
    "    cntr[mapping[int(a)]] = 0"
   ]
  },
  {
   "cell_type": "code",
   "execution_count": 4,
   "metadata": {
    "collapsed": true,
    "deletable": true,
    "editable": true
   },
   "outputs": [],
   "source": [
    "ytrain = train_data[0]\n",
    "ytrain = ytrain.apply(lambda x : mapping[x])"
   ]
  },
  {
   "cell_type": "code",
   "execution_count": 11,
   "metadata": {
    "collapsed": false
   },
   "outputs": [
    {
     "data": {
      "text/plain": [
       "'C'"
      ]
     },
     "execution_count": 11,
     "metadata": {},
     "output_type": "execute_result"
    }
   ],
   "source": [
    "ytrain[15]"
   ]
  },
  {
   "cell_type": "code",
   "execution_count": 8,
   "metadata": {
    "collapsed": false,
    "deletable": true,
    "editable": true
   },
   "outputs": [
    {
     "data": {
      "image/png": "[encoded data removed]",
      "text/plain": [
       "<PIL.Image.Image image mode=L size=200x200 at 0xFB63FEE0B8>"
      ]
     },
     "execution_count": 8,
     "metadata": {},
     "output_type": "execute_result"
    }
   ],
   "source": [
    "im = Image.fromarray(train_data.loc[15][1:].values.reshape(28,28).astype('uint8').T)\n",
    "im.resize((200,200))"
   ]
  },
  {
   "cell_type": "code",
   "execution_count": 6,
   "metadata": {
    "collapsed": false,
    "deletable": true,
    "editable": true
   },
   "outputs": [],
   "source": [
    "if 'data' not in os.listdir():\n",
    "    os.mkdir(\"data\")\n",
    "def foo(arr,cat):\n",
    "    if cat.isupper():\n",
    "        name_ = cat+\"_\"+str(1)\n",
    "        if name_ not in os.listdir(\"data/\"):\n",
    "            os.mkdir(\"data/\"+name_)\n",
    "    else:\n",
    "        name_ = cat+\"_\"+str(2)\n",
    "        if name_ not in os.listdir(\"data/\"):\n",
    "            os.mkdir(\"data/\"+name_)\n",
    "    im = Image.fromarray(arr.reshape(28,28).astype('uint8').T)\n",
    "    cntr[cat]+=1\n",
    "    if cat.isupper():\n",
    "        name = \"_1\"+\"/\"+cat+\"_\"+str(cntr[cat])\n",
    "    else:\n",
    "        name = \"_2\"+\"/\"+cat+\"_\"+str(cntr[cat])\n",
    "    im.save(\"data/\"+cat+name+\".png\")\n",
    "for i in range(train_data.shape[0]):\n",
    "    foo(train_data.loc[i][1:].values.reshape(28,28).astype('uint8'),ytrain[i])"
   ]
  },
  {
   "cell_type": "code",
   "execution_count": 32,
   "metadata": {
    "collapsed": true,
    "deletable": true,
    "editable": true
   },
   "outputs": [],
   "source": [
    "s = \"N_2\""
   ]
  },
  {
   "cell_type": "code",
   "execution_count": 34,
   "metadata": {
    "collapsed": false,
    "deletable": true,
    "editable": true
   },
   "outputs": [
    {
     "data": {
      "text/plain": [
       "False"
      ]
     },
     "execution_count": 34,
     "metadata": {},
     "output_type": "execute_result"
    }
   ],
   "source": [
    "s.islower()"
   ]
  },
  {
   "cell_type": "code",
   "execution_count": 36,
   "metadata": {
    "collapsed": false,
    "deletable": true,
    "editable": true
   },
   "outputs": [
    {
     "data": {
      "text/plain": [
       "'n'"
      ]
     },
     "execution_count": 36,
     "metadata": {},
     "output_type": "execute_result"
    }
   ],
   "source": [
    "ytrain[11]"
   ]
  },
  {
   "cell_type": "code",
   "execution_count": null,
   "metadata": {
    "collapsed": true,
    "deletable": true,
    "editable": true
   },
   "outputs": [],
   "source": []
  }
 ],
 "metadata": {
  "kernelspec": {
   "display_name": "Python 3",
   "language": "python",
   "name": "python3"
  },
  "language_info": {
   "codemirror_mode": {
    "name": "ipython",
    "version": 3
   },
   "file_extension": ".py",
   "mimetype": "text/x-python",
   "name": "python",
   "nbconvert_exporter": "python",
   "pygments_lexer": "ipython3",
   "version": "3.5.2"
  }
 },
 "nbformat": 4,
 "nbformat_minor": 2
}
